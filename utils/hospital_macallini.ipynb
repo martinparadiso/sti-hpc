{
 "cells": [
  {
   "cell_type": "code",
   "execution_count": 21,
   "id": "144a1fa3",
   "metadata": {},
   "outputs": [],
   "source": [
    "%reload_ext autoreload\n",
    "%autoreload 2\n",
    "import sys\n",
    "sys.path.append('../utils')\n",
    "import simulation as sim\n",
    "import numpy as np\n",
    "import random\n",
    "from matplotlib import pyplot as plt\n",
    "plt.rcParams['figure.figsize'] = [8, 8]\n",
    "plt.rcParams['figure.dpi'] = 200"
   ]
  },
  {
   "cell_type": "markdown",
   "id": "04e6c598",
   "metadata": {},
   "source": [
    "# Definir el plano del hospital\n"
   ]
  },
  {
   "cell_type": "code",
   "execution_count": 22,
   "id": "9ff0dd72",
   "metadata": {},
   "outputs": [
    {
     "output_type": "stream",
     "name": "stdout",
     "text": [
      "############################################EX#######\n#        #                                          #\n#        #                                          #\n#        #                                          #\n#  DP                                               #\n#        #    h h h h h h h                         #\n#        #                                          #\n##########    h h h h h h h  #####  ####            #\n#        #                   #         #     P  P   #\n#        #    h h h h h h h  #     T   #            #\n#  DP                        #         #     R  R   #\n#        #    h h h h h h h  #         #            #\n#        #                   ########################\n##########    h h h h h h h                         #\n#        #                                          #\n#        #                                          #\n#  DP                                               #\n#        #    ####  #######  ####### # ######  ######\n#        #    #        #        #        #          #\n##########    #        #        #        #          #\n#        #    #        #        #        #          #\n#        #    #   P    #   P    #   P    #   P      #\n#  DP         #   D    #   D    #   D    #   D      #\n#        #    #        #        #        #          #\n#        #    #        #        #        #          #\n##########    #        #        #        #          #\n#        #    #######################################\n#        #    #                                     #\n#        #    #                                     #\n#        #                                          #\n#  DP         I                                     #\n#             #                                     #\n#        #    #                                     #\n#        #    #                                     #\n#        #    #                                     #\n#####################################################\n"
     ]
    }
   ],
   "source": [
    "width = 53\n",
    "height = 36\n",
    "hospital = sim.Hospital(width, height)\n",
    "\n",
    "for i in range(width):\n",
    "    hospital.add_element(sim.Wall((i, 0)))\n",
    "    hospital.add_element(sim.Wall((i, height - 1)))\n",
    "for i in range(height):\n",
    "    hospital.add_element(sim.Wall((0, i)))\n",
    "    hospital.add_element(sim.Wall((width-1, i)))\n",
    "    \n",
    "for y in range(36):\n",
    "    l = (4, 5, 13, 19, 25, 31)\n",
    "    if y not in l:\n",
    "        hospital.add_element(sim.Wall((9, y)))\n",
    "        \n",
    "for x in range(9):\n",
    "    for y in (10, 16, 22, 28):\n",
    "        hospital.add_element(sim.Wall((x, y)))\n",
    "\n",
    "for y in range(9):\n",
    "    if y not in (5, 6):\n",
    "        hospital.add_element(sim.Wall((14, y)))\n",
    "\n",
    "for y in range(9, 19):\n",
    "    for x in (14, 23, 32, 41):\n",
    "        hospital.add_element(sim.Wall((x, y)))\n",
    "\n",
    "for x in range(14, 52):\n",
    "    hospital.add_element(sim.Wall((x, 9)))\n",
    "    \n",
    "    if x not in (19, 28, 38, 46, 18, 27, 36, 45):\n",
    "        hospital.add_element(sim.Wall((x, 18)))\n",
    "        \n",
    "for x in range(29, 52):\n",
    "    hospital.add_element(sim.Wall((x, 23)))\n",
    "\n",
    "for x in range(29, 40):\n",
    "    if x not in (34, 35):\n",
    "        hospital.add_element(sim.Wall((x, 28)))\n",
    "\n",
    "for y in range(23, 28):\n",
    "    hospital.add_element(sim.Wall((29, y)))\n",
    "    hospital.add_element(sim.Wall((39, y)))\n",
    "    \n",
    "hospital.add_element(sim.Entry((width-9, height-1)))\n",
    "hospital.add_element(sim.Exit((width-8, height-1)))\n",
    "hospital.add_element(sim.ICU((14, 5)))\n",
    "\n",
    "for y in (13, 19, 25, 31):\n",
    "    hospital.add_element(sim.DoctorOffice('general_practitioner', (3, y), (4, y)))\n",
    "hospital.add_element(sim.DoctorOffice('psychiatrist', (3, 5), (4, 5)))\n",
    "hospital.add_element(sim.DoctorOffice('surgeon', (18, 13), (18, 14)))\n",
    "hospital.add_element(sim.DoctorOffice('pediatry', (27, 13), (27, 14)))\n",
    "hospital.add_element(sim.DoctorOffice('gynecologist', (36, 13), (36, 14)))\n",
    "hospital.add_element(sim.DoctorOffice('geriatrics', (45, 13), (45, 14)))\n",
    "\n",
    "hospital.add_element(sim.Receptionist((45, 25), (45, 27)))\n",
    "hospital.add_element(sim.Receptionist((48, 25), (48, 27)))\n",
    "\n",
    "hospital.add_element(sim.Triage((35, 26)))\n",
    "\n",
    "for x in range(14, 28, 2):\n",
    "    for y in range(22, 31, 2):\n",
    "        hospital.add_element(sim.Chair((x, y)))\n",
    "\n",
    "# Imprime el hospital para tener algún tipo de feedback\n",
    "hospital.plot().to_console()"
   ]
  },
  {
   "cell_type": "markdown",
   "id": "89874dc2",
   "metadata": {},
   "source": [
    "# Agrega los parámetros de simulación"
   ]
  },
  {
   "cell_type": "code",
   "execution_count": 23,
   "id": "d784e2c9",
   "metadata": {},
   "outputs": [],
   "source": [
    "    \n",
    "hospital.parameters = {\n",
    "    'objects': {\n",
    "        'chair': {\n",
    "            'infect_probability': 0.1,\n",
    "            'cleaning_interval': sim.TimePeriod(0, 2, 0, 0),\n",
    "            'radius': 0.1\n",
    "        },\n",
    "        'bed': {\n",
    "            'infect_probability': 0.0,\n",
    "            'radius': 0.0,\n",
    "            'cleaning_interval': sim.TimePeriod(0, 2, 0, 0)\n",
    "        }\n",
    "    },\n",
    "    'icu': {\n",
    "        'environment': {\n",
    "            'infection_probability': 0.1\n",
    "        },\n",
    "        'beds': 5,\n",
    "        'death_probability': 0.05,\n",
    "        'sleep_times': [\n",
    "            {\n",
    "                'time': sim.TimePeriod(1, 0, 0, 0),\n",
    "                'probability': 0.2\n",
    "            },\n",
    "            {\n",
    "                'time': sim.TimePeriod(2, 0, 0, 0),\n",
    "                'probability': 0.2\n",
    "            },\n",
    "            {\n",
    "                'time': sim.TimePeriod(4, 0, 0, 0),\n",
    "                'probability': 0.2\n",
    "            },\n",
    "            {\n",
    "                'time': sim.TimePeriod(8, 0, 0, 0),\n",
    "                'probability': 0.2\n",
    "            },\n",
    "            {\n",
    "                'time': sim.TimePeriod(16, 0, 0, 0),\n",
    "                'probability': 0.2\n",
    "            }\n",
    "        ]\n",
    "    },\n",
    "    'reception': {\n",
    "        'attention_time': sim.TimePeriod(0, 0, 15, 0)\n",
    "    },\n",
    "    'triage': {\n",
    "        'icu': {\n",
    "            'death_probability': 0.2,\n",
    "            'probability': 0.070724557\n",
    "        },\n",
    "        'doctors_probabilities': [\n",
    "            {\n",
    "                'specialty': 'general_practitioner',\n",
    "                'probability': 0.444567551\n",
    "            },\n",
    "            {\n",
    "                'specialty': 'psychiatrist',\n",
    "                'probability': 0.045610876\n",
    "            },\n",
    "            {\n",
    "                'specialty': 'surgeon',\n",
    "                'probability': 0.292939085\n",
    "            },\n",
    "            {\n",
    "                'specialty': 'pediatry',\n",
    "                'probability': 0.051335318\n",
    "            },\n",
    "            {\n",
    "                'specialty': 'gynecologist',\n",
    "                'probability': 0.075895021\n",
    "            },\n",
    "            {\n",
    "                'specialty': 'geriatrics',\n",
    "                'probability': 0.018927592\n",
    "            },\n",
    "        ],\n",
    "        'levels': [\n",
    "            {\n",
    "                'level': 1,\n",
    "                'probability': 0.2,\n",
    "                'wait_time': sim.TimePeriod(0, 0, 0, 0)\n",
    "            },\n",
    "            {\n",
    "                'level': 2,\n",
    "                'probability': 0.2,\n",
    "                'wait_time': sim.TimePeriod(0, 0, 15, 0)\n",
    "            },\n",
    "            {\n",
    "'level': 3,\n",
    "                'probability': 0.2,\n",
    "                'wait_time': sim.TimePeriod(0, 0, 30, 0)\n",
    "            },\n",
    "            {\n",
    "                'level': 4,\n",
    "                'probability': 0.2,\n",
    "                'wait_time': sim.TimePeriod(0, 1, 0, 0)\n",
    "            },\n",
    "            {\n",
    "                'level': 5,\n",
    "                'probability': 0.2,\n",
    "                'wait_time': sim.TimePeriod(0, 2, 0, 0)\n",
    "            }\n",
    "        ],\n",
    "        'attention_time': sim.TimePeriod(0, 0, 15, 0)\n",
    "    },\n",
    "    'doctors': [\n",
    "        {\n",
    "            'attention_duration': sim.TimePeriod(0, 0, 15, 0),\n",
    "            'specialty': 'general_practitioner'\n",
    "        },\n",
    "        {\n",
    "            'attention_duration': sim.TimePeriod(0, 0, 15, 0),\n",
    "            'specialty': 'psychiatrist'\n",
    "        },\n",
    "        {\n",
    "            'attention_duration': sim.TimePeriod(0, 0, 15, 0),\n",
    "            'specialty': 'surgeon'\n",
    "        },\n",
    "        {\n",
    "            'attention_duration': sim.TimePeriod(0, 0, 15, 0),\n",
    "            'specialty': 'gynecologist'\n",
    "        },\n",
    "        {\n",
    "            'attention_duration': sim.TimePeriod(0, 0, 15, 0),\n",
    "            'specialty': 'geriatrics'\n",
    "        },\n",
    "        {\n",
    "            'attention_duration': sim.TimePeriod(0, 0, 15, 0),\n",
    "            'specialty': 'pediatry'\n",
    "        },\n",
    "    ],\n",
    "    'patient': {\n",
    "        'walk_speed': 0.2,\n",
    "        'influx': np.array([[random.randint(1, 10) for i in range(12)] for j in range(365)]),\n",
    "        'infected_probability': 0.3\n",
    "    },\n",
    "    'human': {\n",
    "        'infect_distance': 2.0,\n",
    "        'contamination_probability': 0.1,\n",
    "        'incubation_time': sim.TimePeriod(0, 2, 0, 0),\n",
    "        'infect_probability': 0.5\n",
    "    },\n",
    "    'personnel': {\n",
    "        'immunity': 0.4\n",
    "    },\n",
    "    'environments': {\n",
    "        'icu': {\n",
    "            'infection_probability': 0.8\n",
    "        }\n",
    "    }\n",
    "}\n",
    "\n",
    "# Valida que esten todos los parámetros necesarios\n",
    "hospital.validate()"
   ]
  },
  {
   "cell_type": "markdown",
   "id": "c1c9d0c8",
   "metadata": {},
   "source": [
    "# Define las propiedades de ejecución\n",
    "(Parámetros relacionados al sistema o la ejecución y no al hospital)"
   ]
  },
  {
   "cell_type": "code",
   "execution_count": 24,
   "id": "b4418da3",
   "metadata": {},
   "outputs": [],
   "source": [
    "props = sim.SimulationProperties(1, 1)"
   ]
  },
  {
   "cell_type": "code",
   "execution_count": 25,
   "id": "036985c9",
   "metadata": {},
   "outputs": [
    {
     "output_type": "execute_result",
     "data": {
      "text/plain": [
       "CompletedProcess(args=['/home/martin/Repositories/sti-hpc/lib/mpich/bin/mpiexec', '-np', '1', '/home/martin/Repositories/sti-hpc/build/sti-demo', '/home/martin/Repositories/sti-hpc/run/af0455fea90343e49e45eaa85076c7c7/config.props', '/home/martin/Repositories/sti-hpc/run/af0455fea90343e49e45eaa85076c7c7/model.props'], returncode=0, stdout=b'')"
      ]
     },
     "metadata": {},
     "execution_count": 25
    }
   ],
   "source": [
    "run = sim.Simulation(props, hospital, tag='latest')\n",
    "run.run()"
   ]
  },
  {
   "cell_type": "markdown",
   "id": "cf3ba29f",
   "metadata": {},
   "source": [
    "# Analiza la performance un poco"
   ]
  },
  {
   "cell_type": "code",
   "execution_count": 26,
   "id": "0fa5c2cc",
   "metadata": {},
   "outputs": [],
   "source": [
    "import sys\n",
    "sys.path.append('../utils')\n",
    "import performance as perf\n",
    "\n",
    "metrics = perf.Metrics(f\"{run.folder}\")"
   ]
  },
  {
   "cell_type": "code",
   "execution_count": 27,
   "id": "07d6544a",
   "metadata": {},
   "outputs": [
    {
     "output_type": "stream",
     "name": "stdout",
     "text": [
      "Simulation time: 0 days 00:00:34.764054806\n"
     ]
    }
   ],
   "source": [
    "print(f\"Simulation time: {metrics.total_time}\")"
   ]
  },
  {
   "cell_type": "code",
   "execution_count": 28,
   "id": "c0290a95",
   "metadata": {
    "scrolled": false
   },
   "outputs": [],
   "source": [
    "try:\n",
    "    metrics.plot().pie()\n",
    "except AttributeError:\n",
    "    pass"
   ]
  },
  {
   "cell_type": "code",
   "execution_count": 29,
   "id": "ef5a8407",
   "metadata": {},
   "outputs": [],
   "source": [
    "try:\n",
    "    metrics.plot().plot(0)\n",
    "except AttributeError:\n",
    "    pass"
   ]
  },
  {
   "cell_type": "markdown",
   "id": "adf07e06",
   "metadata": {},
   "source": [
    "# Analiza el comportamiento de los agentes"
   ]
  },
  {
   "cell_type": "code",
   "execution_count": 30,
   "id": "e68683e8",
   "metadata": {},
   "outputs": [],
   "source": [
    "import postprocess as pp"
   ]
  },
  {
   "cell_type": "code",
   "execution_count": 31,
   "id": "37742ee6",
   "metadata": {},
   "outputs": [],
   "source": [
    "agents = pp.AgentsOutput(f\"{run.folder}\")"
   ]
  },
  {
   "cell_type": "code",
   "execution_count": 80,
   "metadata": {},
   "outputs": [
    {
     "output_type": "error",
     "ename": "AttributeError",
     "evalue": "'numpy.ndarray' object has no attribute 'unique'",
     "traceback": [
      "\u001b[0;31m---------------------------------------------------------------------------\u001b[0m",
      "\u001b[0;31mAttributeError\u001b[0m                            Traceback (most recent call last)",
      "\u001b[0;32m<ipython-input-80-ffc0ebf46130>\u001b[0m in \u001b[0;36m<module>\u001b[0;34m\u001b[0m\n\u001b[1;32m      3\u001b[0m \u001b[0moc\u001b[0m \u001b[0;34m=\u001b[0m \u001b[0moc\u001b[0m\u001b[0;34m.\u001b[0m\u001b[0mrename\u001b[0m\u001b[0;34m(\u001b[0m\u001b[0mcolumns\u001b[0m\u001b[0;34m=\u001b[0m\u001b[0;34m{\u001b[0m\u001b[0;34m'infect_location.x'\u001b[0m \u001b[0;34m:\u001b[0m \u001b[0;34m'x'\u001b[0m\u001b[0;34m,\u001b[0m \u001b[0;34m'infect_location.y'\u001b[0m \u001b[0;34m:\u001b[0m \u001b[0;34m'y'\u001b[0m\u001b[0;34m}\u001b[0m\u001b[0;34m)\u001b[0m\u001b[0;34m\u001b[0m\u001b[0;34m\u001b[0m\u001b[0m\n\u001b[1;32m      4\u001b[0m \u001b[0moc\u001b[0m \u001b[0;34m=\u001b[0m \u001b[0moc\u001b[0m\u001b[0;34m[\u001b[0m\u001b[0;34m(\u001b[0m\u001b[0moc\u001b[0m\u001b[0;34m[\u001b[0m\u001b[0;34m'x'\u001b[0m\u001b[0;34m]\u001b[0m \u001b[0;34m!=\u001b[0m \u001b[0;36m0.0\u001b[0m\u001b[0;34m)\u001b[0m \u001b[0;34m|\u001b[0m \u001b[0;34m(\u001b[0m\u001b[0moc\u001b[0m\u001b[0;34m[\u001b[0m\u001b[0;34m'y'\u001b[0m\u001b[0;34m]\u001b[0m \u001b[0;34m!=\u001b[0m \u001b[0;36m0.0\u001b[0m\u001b[0;34m)\u001b[0m\u001b[0;34m]\u001b[0m\u001b[0;34m\u001b[0m\u001b[0;34m\u001b[0m\u001b[0m\n\u001b[0;32m----> 5\u001b[0;31m \u001b[0moc\u001b[0m\u001b[0;34m.\u001b[0m\u001b[0mto_numpy\u001b[0m\u001b[0;34m(\u001b[0m\u001b[0;34m)\u001b[0m\u001b[0;34m.\u001b[0m\u001b[0munique\u001b[0m\u001b[0;34m(\u001b[0m\u001b[0;34m)\u001b[0m\u001b[0;34m\u001b[0m\u001b[0;34m\u001b[0m\u001b[0m\n\u001b[0m\u001b[1;32m      6\u001b[0m \u001b[0;31m# oc.plot(x='x', y='y', kind='scatter', grid=True)\u001b[0m\u001b[0;34m\u001b[0m\u001b[0;34m\u001b[0m\u001b[0;34m\u001b[0m\u001b[0m\n",
      "\u001b[0;31mAttributeError\u001b[0m: 'numpy.ndarray' object has no attribute 'unique'"
     ]
    }
   ],
   "source": [
    "df = agents.patients\n",
    "oc = df[['infect_location.x', 'infect_location.y']]\n",
    "oc = oc.rename(columns={'infect_location.x' : 'x', 'infect_location.y' : 'y'})\n",
    "oc = oc[(oc['x'] != 0.0) | (oc['y'] != 0.0)]\n",
    "\n",
    "# oc.plot(x='x', y='y', kind='scatter', grid=True)"
   ]
  }
 ],
 "metadata": {
  "kernelspec": {
   "display_name": "Python 3",
   "language": "python",
   "name": "python3"
  },
  "language_info": {
   "codemirror_mode": {
    "name": "ipython",
    "version": 3
   },
   "file_extension": ".py",
   "mimetype": "text/x-python",
   "name": "python",
   "nbconvert_exporter": "python",
   "pygments_lexer": "ipython3",
   "version": "3.8.5"
  }
 },
 "nbformat": 4,
 "nbformat_minor": 5
}