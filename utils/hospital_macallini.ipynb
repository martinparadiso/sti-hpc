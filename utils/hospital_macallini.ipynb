{
 "cells": [
  {
   "cell_type": "code",
   "execution_count": 118,
   "id": "144a1fa3",
   "metadata": {},
   "outputs": [],
   "source": [
    "import sys\n",
    "sys.path.append('../utils')\n",
    "import simulation as sim\n",
    "import numpy as np\n",
    "import random"
   ]
  },
  {
   "cell_type": "markdown",
   "id": "04e6c598",
   "metadata": {},
   "source": [
    "# Definir el plano del hospital\n"
   ]
  },
  {
   "cell_type": "code",
   "execution_count": 119,
   "id": "9ff0dd72",
   "metadata": {},
   "outputs": [
    {
     "name": "stdout",
     "output_type": "stream",
     "text": [
      "############################################EX#######\n",
      "#        #                                          #\n",
      "#        #                                          #\n",
      "#        #                                          #\n",
      "#  D P                                              #\n",
      "#        #    h h h h h h h                         #\n",
      "#        #                                          #\n",
      "##########    h h h h h h h  #####  ####            #\n",
      "#        #                   #         #     P  P   #\n",
      "#        #    h h h h h h h  #     T   #            #\n",
      "#  D P                       #         #     R  R   #\n",
      "#        #    h h h h h h h  #         #            #\n",
      "#        #                   ########################\n",
      "##########    h h h h h h h                         #\n",
      "#        #                                          #\n",
      "#        #                                          #\n",
      "#  D P                                              #\n",
      "#        #    ####  #######  ####### # ######  ######\n",
      "#        #    #        #        #        #          #\n",
      "##########    #        #        #        #          #\n",
      "#        #    #   P    #   P    #   P    #   P      #\n",
      "#        #    #        #        #        #          #\n",
      "#  D P        #   D    #   D    #   D    #   D      #\n",
      "#        #    #        #        #        #          #\n",
      "#        #    #        #        #        #          #\n",
      "##########    #        #        #        #          #\n",
      "#        #    #######################################\n",
      "#        #    #                                     #\n",
      "#        #    #                                     #\n",
      "#        #                                          #\n",
      "#  D P        I                                     #\n",
      "#             #                                     #\n",
      "#        #    #                                     #\n",
      "#        #    #                                     #\n",
      "#        #    #                                     #\n",
      "#####################################################\n"
     ]
    }
   ],
   "source": [
    "width = 53\n",
    "height = 36\n",
    "hospital = sim.Hospital(width, height)\n",
    "\n",
    "for i in range(width):\n",
    "    hospital.add_element(sim.Wall((i, 0)))\n",
    "    hospital.add_element(sim.Wall((i, height - 1)))\n",
    "for i in range(height):\n",
    "    hospital.add_element(sim.Wall((0, i)))\n",
    "    hospital.add_element(sim.Wall((width-1, i)))\n",
    "    \n",
    "for y in range(36):\n",
    "    l = (4, 5, 13, 19, 25, 31)\n",
    "    if y not in l:\n",
    "        hospital.add_element(sim.Wall((9, y)))\n",
    "        \n",
    "for x in range(9):\n",
    "    for y in (10, 16, 22, 28):\n",
    "        hospital.add_element(sim.Wall((x, y)))\n",
    "\n",
    "for y in range(9):\n",
    "    if y not in (5, 6):\n",
    "        hospital.add_element(sim.Wall((14, y)))\n",
    "\n",
    "for y in range(9, 19):\n",
    "    for x in (14, 23, 32, 41):\n",
    "        hospital.add_element(sim.Wall((x, y)))\n",
    "\n",
    "for x in range(14, 52):\n",
    "    hospital.add_element(sim.Wall((x, 9)))\n",
    "    \n",
    "    if x not in (19, 28, 38, 46, 18, 27, 36, 45):\n",
    "        hospital.add_element(sim.Wall((x, 18)))\n",
    "        \n",
    "for x in range(29, 52):\n",
    "    hospital.add_element(sim.Wall((x, 23)))\n",
    "\n",
    "for x in range(29, 40):\n",
    "    if x not in (34, 35):\n",
    "        hospital.add_element(sim.Wall((x, 28)))\n",
    "\n",
    "for y in range(23, 28):\n",
    "    hospital.add_element(sim.Wall((29, y)))\n",
    "    hospital.add_element(sim.Wall((39, y)))\n",
    "    \n",
    "hospital.add_element(sim.Entry((width-9, height-1)))\n",
    "hospital.add_element(sim.Exit((width-8, height-1)))\n",
    "hospital.add_element(sim.ICU((14, 5)))\n",
    "\n",
    "for y in (13, 19, 25, 31):\n",
    "    hospital.add_element(sim.DoctorOffice('general_practitioner', (3, y), (5, y)))\n",
    "hospital.add_element(sim.DoctorOffice('psychiatrist', (3, 5), (5, 5)))\n",
    "hospital.add_element(sim.DoctorOffice('surgeon', (18, 13), (18, 15)))\n",
    "hospital.add_element(sim.DoctorOffice('pediatry', (27, 13), (27, 15)))\n",
    "hospital.add_element(sim.DoctorOffice('gynecologist', (36, 13), (36, 15)))\n",
    "hospital.add_element(sim.DoctorOffice('geriatrics', (45, 13), (45, 15)))\n",
    "\n",
    "hospital.add_element(sim.Receptionist((45, 25), (45, 27)))\n",
    "hospital.add_element(sim.Receptionist((48, 25), (48, 27)))\n",
    "\n",
    "hospital.add_element(sim.Triage((35, 26)))\n",
    "\n",
    "for x in range(14, 28, 2):\n",
    "    for y in range(22, 31, 2):\n",
    "        hospital.add_element(sim.Chair((x, y)))\n",
    "\n",
    "# Imprime el hospital para tener algún tipo de feedback\n",
    "hospital.plot().to_console()"
   ]
  },
  {
   "cell_type": "markdown",
   "id": "89874dc2",
   "metadata": {},
   "source": [
    "# Agrega los parámetros de simulación"
   ]
  },
  {
   "cell_type": "code",
   "execution_count": 120,
   "id": "d784e2c9",
   "metadata": {},
   "outputs": [],
   "source": [
    "\n",
    "hospital.parameters = {\n",
    "    'objects': {\n",
    "        'chair': {\n",
    "            'infect_probability': 0.1,\n",
    "            'cleaning_interval': sim.TimePeriod(0, 2, 0, 0),\n",
    "            'radius': 0.1\n",
    "        },\n",
    "        'bed': {\n",
    "            'infect_probability': 0.0,\n",
    "            'radius': 0.0,\n",
    "            'cleaning_interval': sim.TimePeriod(0, 2, 0, 0)\n",
    "        }\n",
    "    },\n",
    "    'icu': {\n",
    "        'environment': {\n",
    "            'infection_probability': 0.1\n",
    "        },\n",
    "        'beds': 5,\n",
    "        'death_probability': 0.05,\n",
    "        'sleep_times': [\n",
    "            {\n",
    "                'time': sim.TimePeriod(1, 0, 0, 0),\n",
    "                'probability': 0.2\n",
    "            },\n",
    "            {\n",
    "                'time': sim.TimePeriod(2, 0, 0, 0),\n",
    "                'probability': 0.2\n",
    "            },\n",
    "            {\n",
    "                'time': sim.TimePeriod(4, 0, 0, 0),\n",
    "                'probability': 0.2\n",
    "            },\n",
    "            {\n",
    "                'time': sim.TimePeriod(8, 0, 0, 0),\n",
    "                'probability': 0.2\n",
    "            },\n",
    "            {\n",
    "                'time': sim.TimePeriod(16, 0, 0, 0),\n",
    "                'probability': 0.2\n",
    "            }\n",
    "        ]\n",
    "    },\n",
    "    'reception': {\n",
    "        'attention_time': sim.TimePeriod(0, 0, 15, 0)\n",
    "    },\n",
    "    'triage': {\n",
    "        'icu': {\n",
    "            'death_probability': 0.2,\n",
    "            'probability': 0.070724557\n",
    "        },\n",
    "        'doctors_probabilities': [\n",
    "            {\n",
    "                'specialty': 'general_practitioner',\n",
    "                'probability': 0.444567551\n",
    "            },\n",
    "            {\n",
    "                'specialty': 'psychiatrist',\n",
    "                'probability': 0.045610876\n",
    "            },\n",
    "            {\n",
    "                'specialty': 'surgeon',\n",
    "                'probability': 0.292939085\n",
    "            },\n",
    "            {\n",
    "                'specialty': 'pediatry',\n",
    "                'probability': 0.051335318\n",
    "            },\n",
    "            {\n",
    "                'specialty': 'gynecologist',\n",
    "                'probability': 0.075895021\n",
    "            },\n",
    "            {\n",
    "                'specialty': 'geriatrics',\n",
    "                'probability': 0.018927592\n",
    "            },\n",
    "        ],\n",
    "        'levels': [\n",
    "            {\n",
    "                'level': 1,\n",
    "                'probability': 0.2,\n",
    "                'wait_time': sim.TimePeriod(0, 0, 0, 0)\n",
    "            },\n",
    "            {\n",
    "                'level': 2,\n",
    "                'probability': 0.2,\n",
    "                'wait_time': sim.TimePeriod(0, 0, 0, 15)\n",
    "            },\n",
    "            {\n",
    "                'level': 3,\n",
    "                'probability': 0.2,\n",
    "                'wait_time': sim.TimePeriod(0, 0, 0, 30)\n",
    "            },\n",
    "            {\n",
    "                'level': 4,\n",
    "                'probability': 0.2,\n",
    "                'wait_time': sim.TimePeriod(0, 0, 1, 0)\n",
    "            },\n",
    "            {\n",
    "                'level': 5,\n",
    "                'probability': 0.2,\n",
    "                'wait_time': sim.TimePeriod(0, 0, 2, 0)\n",
    "            }\n",
    "        ],\n",
    "        'attention_time': sim.TimePeriod(0, 0, 15, 0)\n",
    "    },\n",
    "    'doctors': [\n",
    "        {\n",
    "            'attention_duration': sim.TimePeriod(0, 0, 15, 0),\n",
    "            'specialty': 'general_practitioner'\n",
    "        },\n",
    "        {\n",
    "            'attention_duration': sim.TimePeriod(0, 0, 15, 0),\n",
    "            'specialty': 'psychiatrist'\n",
    "        },\n",
    "        {\n",
    "            'attention_duration': sim.TimePeriod(0, 0, 15, 0),\n",
    "            'specialty': 'surgeon'\n",
    "        },\n",
    "        {\n",
    "            'attention_duration': sim.TimePeriod(0, 0, 15, 0),\n",
    "            'specialty': 'gynecologist'\n",
    "        },\n",
    "        {\n",
    "            'attention_duration': sim.TimePeriod(0, 0, 15, 0),\n",
    "            'specialty': 'geriatrics'\n",
    "        },\n",
    "        {\n",
    "            'attention_duration': sim.TimePeriod(0, 0, 15, 0),\n",
    "            'specialty': 'pediatry'\n",
    "        },\n",
    "    ],\n",
    "    'patient': {\n",
    "        'walk_speed': 0.2,\n",
    "        'influx': np.array([[random.randrange(1, 4) for i in range(12)] for j in range(365)]),\n",
    "        'infected_probability': 0.3\n",
    "    },\n",
    "    'human': {\n",
    "        'infect_distance': 2.0,\n",
    "        'contamination_probability': 0.1,\n",
    "        'incubation_time': sim.TimePeriod(0, 2, 0, 0),\n",
    "        'infect_probability': 0.5\n",
    "    }\n",
    "}\n",
    "\n",
    "# Valida que esten todos los parámetros necesarios\n",
    "hospital.validate()"
   ]
  },
  {
   "cell_type": "markdown",
   "id": "c1c9d0c8",
   "metadata": {},
   "source": [
    "# Define las propiedades de ejecución\n",
    "(Parámetros relacionados al sistema o la ejecución y no al hospital)"
   ]
  },
  {
   "cell_type": "code",
   "execution_count": 121,
   "id": "b4418da3",
   "metadata": {},
   "outputs": [],
   "source": [
    "props = sim.SimulationProperties(1, 1)"
   ]
  },
  {
   "cell_type": "code",
   "execution_count": 122,
   "id": "036985c9",
   "metadata": {},
   "outputs": [
    {
     "name": "stdout",
     "output_type": "stream",
     "text": [
      "/home/martin/Repositories/sti-hpc/lib/mpich/bin/mpiexec -np 1 /home/martin/Repositories/sti-hpc/build/sti-demo /home/martin/Repositories/sti-hpc/run/49ad4dac1fb4383b086c31c4b33fba8c/config.props /home/martin/Repositories/sti-hpc/run/49ad4dac1fb4383b086c31c4b33fba8c/model.props\n"
     ]
    },
    {
     "data": {
      "text/plain": [
       "CompletedProcess(args=['/home/martin/Repositories/sti-hpc/lib/mpich/bin/mpiexec', '-np', '1', '/home/martin/Repositories/sti-hpc/build/sti-demo', '/home/martin/Repositories/sti-hpc/run/49ad4dac1fb4383b086c31c4b33fba8c/config.props', '/home/martin/Repositories/sti-hpc/run/49ad4dac1fb4383b086c31c4b33fba8c/model.props'], returncode=0, stdout=b'')"
      ]
     },
     "execution_count": 122,
     "metadata": {},
     "output_type": "execute_result"
    }
   ],
   "source": [
    "run = sim.Simulation(props, hospital, tag='demo1x1')\n",
    "run.run()"
   ]
  },
  {
   "cell_type": "markdown",
   "id": "cf3ba29f",
   "metadata": {},
   "source": [
    "# Analiza la performance un poco"
   ]
  },
  {
   "cell_type": "code",
   "execution_count": 123,
   "id": "0fa5c2cc",
   "metadata": {},
   "outputs": [],
   "source": [
    "import sys\n",
    "sys.path.append('../utils')\n",
    "import performance as perf\n",
    "\n",
    "metrics = perf.Metrics(f\"{run.folder}\")"
   ]
  },
  {
   "cell_type": "code",
   "execution_count": 124,
   "id": "07d6544a",
   "metadata": {},
   "outputs": [
    {
     "name": "stdout",
     "output_type": "stream",
     "text": [
      "Simulation time: 0 days 00:00:35.907148235\n"
     ]
    }
   ],
   "source": [
    "print(f\"Simulation time: {metrics.total_time}\")"
   ]
  },
  {
   "cell_type": "code",
   "execution_count": 125,
   "id": "c0290a95",
   "metadata": {
    "scrolled": false
   },
   "outputs": [
    {
     "ename": "AttributeError",
     "evalue": "'Metrics' object has no attribute 'ticks'",
     "output_type": "error",
     "traceback": [
      "\u001b[0;31m---------------------------------------------------------------------------\u001b[0m",
      "\u001b[0;31mAttributeError\u001b[0m                            Traceback (most recent call last)",
      "\u001b[0;32m<ipython-input-125-24f610827f7a>\u001b[0m in \u001b[0;36m<module>\u001b[0;34m\u001b[0m\n\u001b[1;32m      2\u001b[0m \u001b[0mplt\u001b[0m\u001b[0;34m.\u001b[0m\u001b[0mrcParams\u001b[0m\u001b[0;34m[\u001b[0m\u001b[0;34m'figure.figsize'\u001b[0m\u001b[0;34m]\u001b[0m \u001b[0;34m=\u001b[0m \u001b[0;34m[\u001b[0m\u001b[0;36m8\u001b[0m\u001b[0;34m,\u001b[0m \u001b[0;36m8\u001b[0m\u001b[0;34m]\u001b[0m\u001b[0;34m\u001b[0m\u001b[0;34m\u001b[0m\u001b[0m\n\u001b[1;32m      3\u001b[0m \u001b[0mplt\u001b[0m\u001b[0;34m.\u001b[0m\u001b[0mrcParams\u001b[0m\u001b[0;34m[\u001b[0m\u001b[0;34m'figure.dpi'\u001b[0m\u001b[0;34m]\u001b[0m \u001b[0;34m=\u001b[0m \u001b[0;36m200\u001b[0m\u001b[0;34m\u001b[0m\u001b[0;34m\u001b[0m\u001b[0m\n\u001b[0;32m----> 4\u001b[0;31m \u001b[0mmetrics\u001b[0m\u001b[0;34m.\u001b[0m\u001b[0mplot\u001b[0m\u001b[0;34m(\u001b[0m\u001b[0;34m)\u001b[0m\u001b[0;34m.\u001b[0m\u001b[0mpie\u001b[0m\u001b[0;34m(\u001b[0m\u001b[0;34m)\u001b[0m\u001b[0;34m\u001b[0m\u001b[0;34m\u001b[0m\u001b[0m\n\u001b[0m",
      "\u001b[0;32m~/Repositories/sti-hpc/utils/performance.py\u001b[0m in \u001b[0;36mpie\u001b[0;34m(self)\u001b[0m\n\u001b[1;32m    170\u001b[0m         \u001b[0;34m\"\"\"Plot a pie using the times stored in the metrics\"\"\"\u001b[0m\u001b[0;34m\u001b[0m\u001b[0;34m\u001b[0m\u001b[0m\n\u001b[1;32m    171\u001b[0m \u001b[0;34m\u001b[0m\u001b[0m\n\u001b[0;32m--> 172\u001b[0;31m         \u001b[0mdf\u001b[0m \u001b[0;34m=\u001b[0m \u001b[0mself\u001b[0m\u001b[0;34m.\u001b[0m\u001b[0mmetrics\u001b[0m\u001b[0;34m.\u001b[0m\u001b[0mticks\u001b[0m\u001b[0;34m.\u001b[0m\u001b[0mgroupby\u001b[0m\u001b[0;34m(\u001b[0m\u001b[0;34m'process'\u001b[0m\u001b[0;34m)\u001b[0m\u001b[0;34m.\u001b[0m\u001b[0msum\u001b[0m\u001b[0;34m(\u001b[0m\u001b[0;34m)\u001b[0m\u001b[0;34m\u001b[0m\u001b[0;34m\u001b[0m\u001b[0m\n\u001b[0m\u001b[1;32m    173\u001b[0m         df = df[[*self.metrics.mpi_stages,\n\u001b[1;32m    174\u001b[0m                  \u001b[0;34m'logic'\u001b[0m\u001b[0;34m,\u001b[0m\u001b[0;34m\u001b[0m\u001b[0;34m\u001b[0m\u001b[0m\n",
      "\u001b[0;31mAttributeError\u001b[0m: 'Metrics' object has no attribute 'ticks'"
     ]
    }
   ],
   "source": [
    "from matplotlib import pyplot as plt\n",
    "plt.rcParams['figure.figsize'] = [8, 8]\n",
    "plt.rcParams['figure.dpi'] = 200\n",
    "metrics.plot().pie()"
   ]
  },
  {
   "cell_type": "code",
   "execution_count": null,
   "id": "ef5a8407",
   "metadata": {},
   "outputs": [],
   "source": [
    "metrics.plot().plot(0)"
   ]
  },
  {
   "cell_type": "markdown",
   "id": "adf07e06",
   "metadata": {},
   "source": [
    "# Analiza el comportamiento de los agentes"
   ]
  },
  {
   "cell_type": "code",
   "execution_count": null,
   "id": "e68683e8",
   "metadata": {},
   "outputs": [],
   "source": [
    "import postprocess as pp"
   ]
  },
  {
   "cell_type": "code",
   "execution_count": null,
   "id": "37742ee6",
   "metadata": {},
   "outputs": [],
   "source": [
    "agents = pp.AgentsOutput(f\"{run.folder}\")"
   ]
  },
  {
   "cell_type": "code",
   "execution_count": null,
   "id": "b37717f7",
   "metadata": {},
   "outputs": [],
   "source": [
    "patients = agents.humans[agents.humans['type'] == 'patient']\n",
    "print(f\"{patients['last_state'].unique()}\")\n",
    "# patients['last_state'].hist(xrot=90, bins=len(patients['last_state'].unique()), grid=False)\n",
    "patients['last_state'].value_counts().plot.pie()"
   ]
  },
  {
   "cell_type": "code",
   "execution_count": null,
   "id": "96751927",
   "metadata": {},
   "outputs": [],
   "source": [
    "objs = agents.objects\n",
    "objs"
   ]
  },
  {
   "cell_type": "code",
   "execution_count": null,
   "id": "9d8075a9",
   "metadata": {},
   "outputs": [],
   "source": [
    "df = agents.humans"
   ]
  },
  {
   "cell_type": "code",
   "execution_count": null,
   "id": "d1f8d8bd",
   "metadata": {
    "scrolled": true
   },
   "outputs": [],
   "source": [
    "df['last_state'].unique()"
   ]
  },
  {
   "cell_type": "code",
   "execution_count": null,
   "id": "2cfa2cdc",
   "metadata": {},
   "outputs": [],
   "source": [
    "import pandas as pd"
   ]
  },
  {
   "cell_type": "code",
   "execution_count": null,
   "id": "c8abd6e2",
   "metadata": {},
   "outputs": [],
   "source": [
    "df = pd.read_csv(f\"{run.folder}/chair_availability.p0.csv\")"
   ]
  },
  {
   "cell_type": "code",
   "execution_count": null,
   "id": "3f7fa704",
   "metadata": {},
   "outputs": [],
   "source": [
    "df['free_chairs'].describe()"
   ]
  },
  {
   "cell_type": "code",
   "execution_count": null,
   "id": "299865ba",
   "metadata": {},
   "outputs": [],
   "source": [
    "df['free_chairs'].value_counts().plot.pie()"
   ]
  },
  {
   "cell_type": "code",
   "execution_count": null,
   "id": "46d13945",
   "metadata": {},
   "outputs": [],
   "source": [
    "df['free_chairs'].plot()"
   ]
  }
 ],
 "metadata": {
  "kernelspec": {
   "display_name": "Python 3",
   "language": "python",
   "name": "python3"
  },
  "language_info": {
   "codemirror_mode": {
    "name": "ipython",
    "version": 3
   },
   "file_extension": ".py",
   "mimetype": "text/x-python",
   "name": "python",
   "nbconvert_exporter": "python",
   "pygments_lexer": "ipython3",
   "version": "3.8.5"
  }
 },
 "nbformat": 4,
 "nbformat_minor": 5
}
